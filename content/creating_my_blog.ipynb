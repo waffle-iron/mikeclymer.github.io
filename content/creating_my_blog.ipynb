{
 "cells": [
  {
   "cell_type": "markdown",
   "metadata": {},
   "source": [
    "Recently, I have been working primarily with Python, Django, Jupyter Notebook, and related technologies. I am using Jupyter Notebook to explore concepts related to my projects, as well as document their setup and process. Generating a static blog site with Pelican, via Jupyter Notebook, seems to be a good fit. If anything, it gives me an opportunity to explore these technologies in different ways. Hosting with Github Pages is simple and free. \n",
    "\n",
    "I figured I would start with the obligatory meta-post about 'how I built this blog' by using Miniconda, Python, Pelican, and Jupyter Notebook. Luckily, there are a number of good posts out there about how to get going. I followed Vik Paruchuri's [post](https://www.dataquest.io/blog/how-to-setup-a-data-science-blog/) for my core setup. I made a few changes to suit my preference for using [Miniconda](http://conda.pydata.org/docs/) to manage Python versions (3.5), Python package dependencies, and Python environments.\n",
    "\n",
    "### Installing Miniconda and creating your blog environment\n",
    "We need to get Miniconda installed and a Conda environment created specfically for your blog. I created a folder `~/mikeclymer.com` to match the domain of this blog. I also created an environment with the same label to keep it simple. Here are the steps:\n",
    "- Follow the Conda documentation for installing Miniconda on your system (Mac OS X for me).\n",
    "- Once you have Miniconda installed, create an environment specifically for your blog. As an example I created an environment named specifically for the domain where this blog resides.\n",
    "```shell\n",
    "~/mikeclymer.com conda create -n mikeclymer.com\n",
    "```\n",
    "- Then activate the newly created environment.\n",
    "```shell\n",
    "~/mikeclymer.com source activate mikeclymer.com\n",
    "```\n",
    "\n",
    "### Installing Pelican (and related dependencies) with Miniconda\n",
    "For the next few steps, we will reference the [Installing Pelican](https://www.dataquest.io/blog/how-to-setup-a-data-science-blog/#installing-pelican) section of the post referenced above. We have already completed the creating a folder and activating an environment. We do need to complete the following:\n",
    "- Create the `.gitignore` file as referenced in the blog post.\n",
    "- Install the packages, listed in the `requirements.txt` file, manually with Miniconda. Your package versions may differ from what I have listed in my example. Some of these packages need to installed in from sources outside of the normal Conda distributions. Reference the Conda docs for more information about how to locate the approproate source for various package dependencies.\n",
    "```shell\n",
    "(mikeclymer.com) ~/mikeclymer.com conda install markdown\n",
    "(mikeclymer.com) ~/mikeclymer.com conda install -c conda-forge pelican=3.7.0\n",
    "(mikeclymer.com) ~/mikeclymer.com conda install jupyter\n",
    "(mikeclymer.com) ~/mikeclymer.com conda install ipython\n",
    "(mikeclymer.com) ~/mikeclymer.com conda install nbconvert\n",
    "(mikeclymer.com) ~/mikeclymer.com conda install beautifulsoup4\n",
    "(mikeclymer.com) ~/mikeclymer.com conda install -c conda-forge ghp-import=0.5.4\n",
    "(mikeclymer.com) ~/mikeclymer.com conda install matplotlib\n",
    "```\n",
    "- Instead of using the `requirements.txt` file to install our dependencies with `pip`, we will use our manually installed dependencies to generate an [explicit specification](http://conda.pydata.org/docs/using/envs.html#build-identical-conda-environments) file to build identical environments.\n",
    "```shell\n",
    "(mikeclymer.com) ~/mikeclymer.com conda list --explicit > spec-file.txt\n",
    "```\n",
    "\n",
    "### Pelican quickstart and installing the Jupyter plugin\n",
    "I followed the exact same steps and used the same inputs as highlighted [here](https://www.dataquest.io/blog/how-to-setup-a-data-science-blog/#creating-your-data-science-blog) and [here](https://www.dataquest.io/blog/how-to-setup-a-data-science-blog/#installing-the-jupyter-plugin)."
   ]
  }
 ],
 "metadata": {
  "anaconda-cloud": {},
  "kernelspec": {
   "display_name": "Python [conda env:mikeclymer.com]",
   "language": "python",
   "name": "conda-env-mikeclymer.com-py"
  },
  "language_info": {
   "codemirror_mode": {
    "name": "ipython",
    "version": 3
   },
   "file_extension": ".py",
   "mimetype": "text/x-python",
   "name": "python",
   "nbconvert_exporter": "python",
   "pygments_lexer": "ipython3",
   "version": "3.5.2"
  }
 },
 "nbformat": 4,
 "nbformat_minor": 2
}
